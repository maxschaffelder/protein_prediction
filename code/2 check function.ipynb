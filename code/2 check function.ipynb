{
 "cells": [
  {
   "cell_type": "code",
   "execution_count": 2,
   "id": "e4e5e47e",
   "metadata": {},
   "outputs": [],
   "source": [
    "def helix(filename):\n",
    "    f = open(filename)\n",
    "    count = 0\n",
    "    for i in f:\n",
    "        if \"HELIX  \" in i:\n",
    "            count += 1\n",
    "            \n",
    "    return count\n",
    "\n",
    "\n",
    "def sheet(filename):\n",
    "    f = open(filename)\n",
    "    count = 0\n",
    "    for i in f:\n",
    "        if \"SHEET   \" in i:\n",
    "            count += 1\n",
    "            \n",
    "    return count\n",
    "\n",
    "def check(filename):\n",
    "    print(sheet(filename), \"sheets\")\n",
    "    print(helix(filename), \"helixes\")"
   ]
  },
  {
   "cell_type": "code",
   "execution_count": 3,
   "id": "3d3ce874",
   "metadata": {},
   "outputs": [
    {
     "name": "stdout",
     "output_type": "stream",
     "text": [
      "0 sheets\n",
      "2 helixes\n"
     ]
    }
   ],
   "source": [
    "check(\"1l2y.pdb\")"
   ]
  },
  {
   "cell_type": "code",
   "execution_count": 50,
   "id": "aea6304d",
   "metadata": {},
   "outputs": [
    {
     "name": "stdout",
     "output_type": "stream",
     "text": [
      "20\n",
      "0\n"
     ]
    }
   ],
   "source": [
    "print(helix(\"2c0k.pdb\"))\n",
    "print(sheet(\"2c0k.pdb\"))"
   ]
  },
  {
   "cell_type": "code",
   "execution_count": 51,
   "id": "5f5926cf",
   "metadata": {},
   "outputs": [
    {
     "name": "stdout",
     "output_type": "stream",
     "text": [
      "0\n",
      "8\n"
     ]
    }
   ],
   "source": [
    "print(helix(\"3q9h.pdb\"))\n",
    "print(sheet(\"3q9h.pdb\"))"
   ]
  },
  {
   "cell_type": "code",
   "execution_count": 57,
   "id": "32e97452",
   "metadata": {},
   "outputs": [
    {
     "name": "stdout",
     "output_type": "stream",
     "text": [
      "164\n",
      "146\n"
     ]
    }
   ],
   "source": [
    "print(sheet(\"1q82.pdb\"))\n",
    "print(helix(\"1q82.pdb\"))"
   ]
  },
  {
   "cell_type": "code",
   "execution_count": 37,
   "id": "db98bd5a",
   "metadata": {},
   "outputs": [
    {
     "name": "stdout",
     "output_type": "stream",
     "text": [
      "0\n",
      "10\n"
     ]
    }
   ],
   "source": [
    "print(sheet(\"1p3u.pdb1\"))\n",
    "print(helix(\"1p3u.pdb1\"))"
   ]
  },
  {
   "cell_type": "code",
   "execution_count": 56,
   "id": "d537b5a0",
   "metadata": {},
   "outputs": [
    {
     "name": "stdout",
     "output_type": "stream",
     "text": [
      "18\n",
      "2\n"
     ]
    }
   ],
   "source": [
    "print(sheet(\"1luq.pdb\"))\n",
    "print(helix(\"1luq.pdb\"))"
   ]
  },
  {
   "cell_type": "code",
   "execution_count": 7,
   "id": "12ad4f6b",
   "metadata": {},
   "outputs": [],
   "source": [
    "def write_csv(PDB_list):\n",
    "    g = open(\"PDB_alpha_beta\",\"w\")\n",
    "    writer=csv.writer(g)\n",
    "    \n",
    "    header = [\"ID\",\"ALPHA\",\"BETA\"]\n",
    "    writer.writerow(header)\n",
    "    for i in PDB_list:\n",
    "        data = [i,helix[i],sheet[i]]\n",
    "        writer.writerow(data)\n",
    "        \n",
    "    g.close()"
   ]
  },
  {
   "cell_type": "code",
   "execution_count": 8,
   "id": "cf1ffc56",
   "metadata": {},
   "outputs": [
    {
     "data": {
      "text/plain": [
       "<Vector -6.63, 1.85, -1.76>"
      ]
     },
     "execution_count": 8,
     "metadata": {},
     "output_type": "execute_result"
    }
   ],
   "source": [
    "from Bio.PDB import *\n",
    "\n",
    "p = PDBParser()\n",
    "structure = p.get_structure(\"1l2y\", \"1l2y.pdb\")\n",
    "\n",
    "residues =[]\n",
    "atoms_n = []\n",
    "atoms_o = []\n",
    "\n",
    "for model in structure:\n",
    "    for chain in model:\n",
    "        for residue in chain:\n",
    "            for atom in residue:\n",
    "                if atom.get_name()=='N':\n",
    "                    atoms_n.append(atom)\n",
    "                if atom.get_name()==\"O\":\n",
    "                    atoms_o.append(atom)\n",
    "\n",
    "\n",
    "#dir(structure)\n",
    "# structure.get_residues()\n",
    "\n",
    "atoms_o[0].get_vector()"
   ]
  },
  {
   "cell_type": "code",
   "execution_count": null,
   "id": "61f71f9d",
   "metadata": {},
   "outputs": [],
   "source": []
  }
 ],
 "metadata": {
  "kernelspec": {
   "display_name": "Python 3 (ipykernel)",
   "language": "python",
   "name": "python3"
  },
  "language_info": {
   "codemirror_mode": {
    "name": "ipython",
    "version": 3
   },
   "file_extension": ".py",
   "mimetype": "text/x-python",
   "name": "python",
   "nbconvert_exporter": "python",
   "pygments_lexer": "ipython3",
   "version": "3.9.7"
  }
 },
 "nbformat": 4,
 "nbformat_minor": 5
}
