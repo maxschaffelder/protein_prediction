{
 "cells": [
  {
   "cell_type": "code",
   "execution_count": 1,
   "metadata": {},
   "outputs": [],
   "source": [
    "import pandas as pd\n",
    "from sklearn.model_selection import train_test_split\n",
    "from sklearn.naive_bayes import MultinomialNB\n",
    "from sklearn.tree import DecisionTreeClassifier\n",
    "from sklearn.metrics import confusion_matrix, accuracy_score\n",
    "import numpy as np\n",
    "from sklearn.linear_model import LinearRegression\n",
    "import matplotlib.pyplot as plt\n",
    "from scipy.stats import linregress"
   ]
  },
  {
   "cell_type": "code",
   "execution_count": 3,
   "metadata": {},
   "outputs": [],
   "source": [
    "def get_features(file, choice):\n",
    "    \n",
    "    df = pd.read_csv(file)\n",
    "    features = pd.DataFrame()\n",
    "    \n",
    "    if choice == \"helices\":\n",
    "        features[\"A\"] = df[\"sequences\"].str.count(\"A\")\n",
    "        features[\"R\"] = df[\"sequences\"].str.count(\"R\")\n",
    "        features[\"D\"] = df[\"sequences\"].str.count(\"D\")\n",
    "        features[\"E\"] = df[\"sequences\"].str.count(\"E\")\n",
    "        features[\"Y\"] = df[\"sequences\"].str.count(\"Y\")\n",
    "        features[\"M\"] = df[\"sequences\"].str.count(\"M\")\n",
    "        features[\"F\"] = df[\"sequences\"].str.count(\"F\")\n",
    "        features[\"L\"] = df[\"sequences\"].str.count(\"L\")\n",
    "        features[\"I\"] = df[\"sequences\"].str.count(\"I\")\n",
    "\n",
    "    elif choice == \"sheets\":\n",
    "        features[\"P\"] = df[\"sequences\"].str.count(\"P\")\n",
    "        features[\"S\"] = df[\"sequences\"].str.count(\"S\")\n",
    "        features[\"G\"] = df[\"sequences\"].str.count(\"G\")\n",
    "        features[\"T\"] = df[\"sequences\"].str.count(\"T\")\n",
    "        features[\"V\"] = df[\"sequences\"].str.count(\"V\")\n",
    "\n",
    "    features[\"Len\"] = df[\"sequences\"].str.len()\n",
    "    \n",
    "    return features\n",
    "    \n",
    "# nothing\n",
    "#features[\"AH\"] = df[\"helices\"]\n",
    "#features[\"BS\"] = df[\"sheets\"]\n",
    "#features[\"N\"] = df[\"sequences\"].str.count(\"N\")\n",
    "#features[\"W\"] = df[\"sequences\"].str.count(\"W\")\n",
    "#features[\"H\"] = df[\"sequences\"].str.count(\"H\")\n",
    "#features[\"C\"] = df[\"sequences\"].str.count(\"C\")\n",
    "#features[\"Q\"] = df[\"sequences\"].str.count(\"Q\")\n",
    "#features[\"K\"] = df[\"sequences\"].str.count(\"K\")\n"
   ]
  },
  {
   "cell_type": "code",
   "execution_count": 52,
   "metadata": {},
   "outputs": [],
   "source": [
    "\n",
    "#df[\"helices\"][df[\"helices\"]>0]=1\n",
    "#df[\"sheets\"][df[\"sheets\"]>0]=2\n",
    "#df[\"SS\"]=df[\"sheets\"]+df[\"helices\"]\n",
    "#df[\"SS\"].unique()\n",
    "\n",
    "#df.head()"
   ]
  },
  {
   "cell_type": "code",
   "execution_count": 53,
   "metadata": {},
   "outputs": [],
   "source": [
    "#plt.scatter(features[\"A\"], df.sheets)\n",
    "#print(np.corrcoef(features[\"A\"], df.sheets)) #for helices above 0.7: A, R, D, Y, M, F  # above 0.8: E, L, I\n",
    "\n",
    "# for sheets: around 0.7: T, P, S, G, V"
   ]
  },
  {
   "cell_type": "code",
   "execution_count": 4,
   "metadata": {},
   "outputs": [
    {
     "name": "stdout",
     "output_type": "stream",
     "text": [
      "[[1.         0.81748901]\n",
      " [0.81748901 1.        ]]\n"
     ]
    }
   ],
   "source": [
    "choice = \"helices\"\n",
    "\n",
    "df = pd.read_csv(\"Data/1chain_proteins.csv\")\n",
    "\n",
    "features = get_features(\"Data/1chain_proteins.csv\", choice)\n",
    "\n",
    "#y = df[\"helices\"]\n",
    "y = df[choice]\n",
    "\n",
    "x_train, x_test, y_train, y_test = train_test_split(features, y, test_size=0.2)\n",
    "reg = LinearRegression().fit(x_train, y_train)\n",
    "\n",
    "\n",
    "y_pred = reg.predict(x_test)\n",
    "\n",
    "y_pred_round = [ round(elem) for elem in y_pred ]\n",
    "mat = confusion_matrix(y_test, y_pred_round)\n",
    "\n",
    "print(np.corrcoef(y_test, y_pred_round))\n",
    "#plt.scatter(y_test, y_pred)\n",
    "#print(linregress(y_test, y_pred)[0])"
   ]
  },
  {
   "cell_type": "code",
   "execution_count": 5,
   "metadata": {},
   "outputs": [
    {
     "data": {
      "text/plain": [
       "0.8627940408764889"
      ]
     },
     "execution_count": 5,
     "metadata": {},
     "output_type": "execute_result"
    }
   ],
   "source": [
    "tot = 0\n",
    "for i in range(1000):\n",
    "    x_train, x_test, y_train, y_test = train_test_split(features, y, test_size=0.2)\n",
    "    reg = LinearRegression().fit(x_train, y_train)\n",
    "    y_pred = reg.predict(x_test)\n",
    "    y_pred_round = [ round(elem) for elem in y_pred ]\n",
    "    tot += np.corrcoef(y_test, y_pred_round)[0][1]\n",
    "\n",
    "tot/1000\n",
    "\n",
    "# average for helix prediction: 0.86 correlation coefficient\n",
    "# average for sheet prediction: 0.81 correlation coefficient"
   ]
  },
  {
   "cell_type": "code",
   "execution_count": 6,
   "metadata": {},
   "outputs": [
    {
     "name": "stdout",
     "output_type": "stream",
     "text": [
      "Estimation is off on average by: 2.66\n"
     ]
    }
   ],
   "source": [
    "s = 0\n",
    "\n",
    "for i in range(len(y_pred)):\n",
    "    #print(y_test.values[i], y_pred[i])\n",
    "    s += np.sqrt((y_test.values[i] - y_pred[i])**2)\n",
    "    \n",
    "print(\"Estimation is off on average by:\" , round(s/len(y_pred), 2))"
   ]
  }
 ],
 "metadata": {
  "kernelspec": {
   "display_name": "Python 3 (ipykernel)",
   "language": "python",
   "name": "python3"
  },
  "language_info": {
   "codemirror_mode": {
    "name": "ipython",
    "version": 3
   },
   "file_extension": ".py",
   "mimetype": "text/x-python",
   "name": "python",
   "nbconvert_exporter": "python",
   "pygments_lexer": "ipython3",
   "version": "3.9.7"
  }
 },
 "nbformat": 4,
 "nbformat_minor": 4
}
