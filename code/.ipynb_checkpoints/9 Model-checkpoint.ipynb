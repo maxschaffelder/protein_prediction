{
 "cells": [
  {
   "cell_type": "code",
   "execution_count": 36,
   "id": "dea70a22",
   "metadata": {},
   "outputs": [],
   "source": [
    "import pandas as pd\n",
    "from sklearn.model_selection import train_test_split\n",
    "from sklearn.linear_model import LogisticRegression\n",
    "from sklearn.model_selection import cross_validate\n",
    "from sklearn.metrics import accuracy_score, confusion_matrix, r2_score\n",
    "from sklearn import tree  # trying decision tree classifier\n",
    "from sklearn import svm \n",
    "from sklearn import preprocessing"
   ]
  },
  {
   "cell_type": "code",
   "execution_count": 2,
   "id": "02eea89d",
   "metadata": {},
   "outputs": [],
   "source": [
    "df = pd.read_csv(\"Data/natural_100_seq.csv\")\n",
    "\n",
    "sheets = df.sheets\n",
    "helices = df.helices\n",
    "length = df.length\n",
    "chains = df.chains\n",
    "sequences = df.sequences\n"
   ]
  },
  {
   "cell_type": "code",
   "execution_count": 27,
   "id": "c00703ea",
   "metadata": {},
   "outputs": [],
   "source": [
    "# Function that assigns numerical values to the acids in the sequences\n",
    "\n",
    "# Assigning the features and labels\n",
    "\n",
    "X = []\n",
    "y = helices\n",
    "\n",
    "le = preprocessing.LabelEncoder()\n",
    "le.fit(df[\"Res Name\"])\n",
    "df['Res'] = le.transform(df[\"Res Name\"])\n",
    "\n",
    "#print(len(X))\n",
    "\n",
    "\n",
    "# Putting the features (positions) in the dataframe\n",
    "X = pd.DataFrame(X)\n",
    "\n",
    "#X = pd.concat([X, chains, length], ignore_index=True, axis=1)\n"
   ]
  },
  {
   "cell_type": "code",
   "execution_count": 30,
   "id": "5c45cc5c",
   "metadata": {},
   "outputs": [
    {
     "name": "stdout",
     "output_type": "stream",
     "text": [
      "0.35064935064935066\n"
     ]
    },
    {
     "name": "stderr",
     "output_type": "stream",
     "text": [
      "/Users/maxschaffelder/opt/anaconda3/lib/python3.9/site-packages/sklearn/linear_model/_logistic.py:763: ConvergenceWarning: lbfgs failed to converge (status=1):\n",
      "STOP: TOTAL NO. of ITERATIONS REACHED LIMIT.\n",
      "\n",
      "Increase the number of iterations (max_iter) or scale the data as shown in:\n",
      "    https://scikit-learn.org/stable/modules/preprocessing.html\n",
      "Please also refer to the documentation for alternative solver options:\n",
      "    https://scikit-learn.org/stable/modules/linear_model.html#logistic-regression\n",
      "  n_iter_i = _check_optimize_result(\n"
     ]
    }
   ],
   "source": [
    "# logistic regression\n",
    "\n",
    "X_train, X_test, y_train, y_test = train_test_split(X, y, test_size = 0.2)\n",
    "\n",
    "clf = LogisticRegression(max_iter = 1000)     \n",
    "clf.fit(X_train, y_train)\n",
    "y_pred = clf.predict(X_test)\n",
    "\n",
    "print(accuracy_score(y_pred, y_test))\n"
   ]
  },
  {
   "cell_type": "code",
   "execution_count": null,
   "id": "592861c9",
   "metadata": {},
   "outputs": [],
   "source": [
    "# Checking the  logistic regression model using cross validation\n",
    "cv_results = cross_validate(clf, X, y, cv=100)\n",
    "print(\"Average accuracy is\", np.average(cv_results[\"test_score\"]))\n"
   ]
  },
  {
   "cell_type": "code",
   "execution_count": null,
   "id": "260792a4",
   "metadata": {},
   "outputs": [],
   "source": [
    "######################################################################################################"
   ]
  },
  {
   "cell_type": "code",
   "execution_count": 32,
   "id": "c3c7dfa7",
   "metadata": {},
   "outputs": [
    {
     "name": "stdout",
     "output_type": "stream",
     "text": [
      "0.4155844155844156\n"
     ]
    }
   ],
   "source": [
    "# decision tree\n",
    "\n",
    "treee = tree.DecisionTreeClassifier()\n",
    "X_train, X_test, y_train, y_test = train_test_split(X, y, test_size=0.2) \n",
    "treee = treee.fit(X_train, y_train)\n",
    "\n",
    "y_pred = treee.predict(X_test)\n",
    "#c_matrix = metrics.confusion_matrix(y_test, y_pred)\n",
    "#print(c_matrix)\n",
    "#print(\" \")\n",
    "print(accuracy_score(y_test, y_pred))  # accuracy for sheets"
   ]
  },
  {
   "cell_type": "code",
   "execution_count": null,
   "id": "ac2d67c6",
   "metadata": {},
   "outputs": [],
   "source": [
    "accuracy_list = []\n",
    "for i in range(500):\n",
    "    treee = tree.DecisionTreeClassifier()\n",
    "    X_train, X_test, y_train, y_test = train_test_split(X, y, test_size=0.2) \n",
    "    treee = treee.fit(X_train, y_train)\n",
    "\n",
    "    y_pred = treee.predict(X_test)\n",
    "    accuracy_list.append(accuracy_score(y_test, y_pred))\n",
    "    \n",
    "sum(accuracy_list)/len(accuracy_list)"
   ]
  },
  {
   "cell_type": "code",
   "execution_count": null,
   "id": "e7795b63",
   "metadata": {},
   "outputs": [],
   "source": [
    "tree_results = cross_validate(treee, X, y, cv=50)\n",
    "print(np.average(tree_results[\"test_score\"]))"
   ]
  },
  {
   "cell_type": "code",
   "execution_count": null,
   "id": "7e96f16f",
   "metadata": {},
   "outputs": [],
   "source": [
    "#########################################################################################################"
   ]
  },
  {
   "cell_type": "code",
   "execution_count": 35,
   "id": "6d663880",
   "metadata": {},
   "outputs": [
    {
     "name": "stdout",
     "output_type": "stream",
     "text": [
      "0.4161849710982659\n",
      "[[41 22 10  2  2  0  0  0  0]\n",
      " [14 38 13  6  1  0  0  0  0]\n",
      " [ 8 20 23  6  7  3  0  0  0]\n",
      " [ 4  8 15 23  3  2  0  0  0]\n",
      " [ 4  6  7  9 15  1  0  0  0]\n",
      " [ 1  2  8  2  3  3  0  0  0]\n",
      " [ 0  0  4  3  1  1  1  0  0]\n",
      " [ 0  0  2  1  0  0  0  0  0]\n",
      " [ 0  0  1  0  0  0  0  0  0]]\n"
     ]
    }
   ],
   "source": [
    "# Try support vector machine\n",
    "\n",
    "X_train, X_test, y_train, y_test = train_test_split(X, y, test_size = 0.3)\n",
    "clf = svm.SVC(C = 3)\n",
    "clf.fit(X_train, y_train)\n",
    "\n",
    "y_pred = clf.predict(X_test)\n",
    "\n",
    "print(accuracy_score(y_test, y_pred))\n",
    "print(confusion_matrix(y_test, y_pred))"
   ]
  },
  {
   "cell_type": "code",
   "execution_count": null,
   "id": "682a2cbf",
   "metadata": {},
   "outputs": [],
   "source": [
    "from sklearn.svm import SVC\n",
    "svclassifier = SVC(kernel='linear')\n",
    "svclassifier.fit(X_train, y_train)\n",
    "y_pred = svclassifier.predict(X_test)\n",
    "print(accuracy_score(y_test, y_pred))"
   ]
  }
 ],
 "metadata": {
  "kernelspec": {
   "display_name": "Python 3 (ipykernel)",
   "language": "python",
   "name": "python3"
  },
  "language_info": {
   "codemirror_mode": {
    "name": "ipython",
    "version": 3
   },
   "file_extension": ".py",
   "mimetype": "text/x-python",
   "name": "python",
   "nbconvert_exporter": "python",
   "pygments_lexer": "ipython3",
   "version": "3.9.7"
  }
 },
 "nbformat": 4,
 "nbformat_minor": 5
}
