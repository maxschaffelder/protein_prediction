{
 "cells": [
  {
   "cell_type": "code",
   "execution_count": 6,
   "id": "46bcdf72",
   "metadata": {},
   "outputs": [],
   "source": [
    "def helix(filename):\n",
    "    f = open(filename)\n",
    "    count = 0\n",
    "    for i in f:\n",
    "        if \"HELIX  \" in i:\n",
    "            count += 1\n",
    "            \n",
    "    return count\n",
    "\n",
    "\n",
    "def sheet(filename):\n",
    "    f = open(filename)\n",
    "    count = 0\n",
    "    for i in f:\n",
    "        if \"SHEET   \" in i:\n",
    "            count += 1\n",
    "            \n",
    "    return count\n",
    "\n",
    "def check(filename):\n",
    "    print(sheet(filename), \"sheets\")\n",
    "    print(helix(filename), \"helixes\")"
   ]
  },
  {
   "cell_type": "code",
   "execution_count": 7,
   "id": "58adf38a",
   "metadata": {},
   "outputs": [
    {
     "name": "stdout",
     "output_type": "stream",
     "text": [
      "164 sheets\n",
      "146 helixes\n"
     ]
    }
   ],
   "source": [
    "check(\"1q82.pdb\")"
   ]
  },
  {
   "cell_type": "code",
   "execution_count": null,
   "id": "c529e848",
   "metadata": {},
   "outputs": [],
   "source": [
    " #  f.close()\n",
    " #  \n",
    " #  # getting sheet count\n",
    " #  f = open(filename, \"r\")\n",
    " #  file = f.readlines()\n",
    " #  dic={}\n",
    " #  strands=[]\n",
    " #  sheet_count = 0\n",
    " #  \n",
    " #  for line in file:\n",
    " #      if \"SHEET\" in line[0:6]:\n",
    " #          initSeqNum=line[22:26]\n",
    " #          endSeqNum=line[33:37]\n",
    " #          chainID=line[21:22]\n",
    " #          sheetID=line[11:14]\n",
    " #          strands.append((initSeqNum, endSeqNum, chainID))\n",
    " #          if sheetID not in dic.keys():\n",
    " #              dic[sheetID]=[(initSeqNum, endSeqNum, chainID)]\n",
    " #          else:\n",
    " #              if (initSeqNum, endSeqNum, chainID) not in dic[sheetID]:\n",
    " #                  dic[sheetID].append((initSeqNum, endSeqNum, chainID))\n",
    " #  \n",
    " #  sheet_count = len(dic)"
   ]
  }
 ],
 "metadata": {
  "kernelspec": {
   "display_name": "Python 3 (ipykernel)",
   "language": "python",
   "name": "python3"
  },
  "language_info": {
   "codemirror_mode": {
    "name": "ipython",
    "version": 3
   },
   "file_extension": ".py",
   "mimetype": "text/x-python",
   "name": "python",
   "nbconvert_exporter": "python",
   "pygments_lexer": "ipython3",
   "version": "3.9.7"
  }
 },
 "nbformat": 4,
 "nbformat_minor": 5
}
