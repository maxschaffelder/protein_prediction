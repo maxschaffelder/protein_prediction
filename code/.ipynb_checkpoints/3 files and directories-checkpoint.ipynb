{
 "cells": [
  {
   "cell_type": "code",
   "execution_count": 2,
   "id": "107bcabc",
   "metadata": {},
   "outputs": [
    {
     "data": {
      "text/plain": [
       "{0: '/Users/maxschaffelder/Desktop/Project_Year_2/pdb files/1l2y.pdb',\n",
       " 1: '/Users/maxschaffelder/Desktop/Project_Year_2/pdb files/4cut.pdb',\n",
       " 2: '/Users/maxschaffelder/Desktop/Project_Year_2/pdb files/.DS_Store',\n",
       " 3: '/Users/maxschaffelder/Desktop/Project_Year_2/pdb files/1luq.pdb',\n",
       " 4: '/Users/maxschaffelder/Desktop/Project_Year_2/pdb files/3q9h.pdb',\n",
       " 5: '/Users/maxschaffelder/Desktop/Project_Year_2/pdb files/3wu2.pdb',\n",
       " 6: '/Users/maxschaffelder/Desktop/Project_Year_2/pdb files/1q82.pdb',\n",
       " 7: '/Users/maxschaffelder/Desktop/Project_Year_2/pdb files/1p3u.pdb1',\n",
       " 8: '/Users/maxschaffelder/Desktop/Project_Year_2/pdb files/2c0k.pdb',\n",
       " 9: '/Users/maxschaffelder/Desktop/Project_Year_2/pdb files/pdb1b5h.ent'}"
      ]
     },
     "execution_count": 2,
     "metadata": {},
     "output_type": "execute_result"
    }
   ],
   "source": [
    "# Code to store all file paths in a directory in a dicionary\n",
    "import os\n",
    "# assign directory\n",
    "directory = '/Users/maxschaffelder/Desktop/Project_Year_2/pdb files'  # just a test with the first \n",
    " \n",
    "structures = {}\n",
    "i = 0\n",
    "    \n",
    "# iterate over files in\n",
    "# that directory\n",
    "for filename in os.listdir(directory):\n",
    "    f = os.path.join(directory, filename)\n",
    "    \n",
    "    # checking if it is a file\n",
    "    if os.path.isfile(f):\n",
    "        structures[i] = f  # this adds he path of the files to structures dictionary\n",
    "        #op = open(f)\n",
    "        #structures[i] = op\n",
    "        i += 1\n",
    "        #op.close()\n",
    "        \n",
    "        \n",
    "structures"
   ]
  },
  {
   "cell_type": "code",
   "execution_count": 17,
   "id": "9135ffeb",
   "metadata": {},
   "outputs": [
    {
     "name": "stderr",
     "output_type": "stream",
     "text": [
      "/Users/maxschaffelder/opt/anaconda3/lib/python3.9/site-packages/Bio/PDB/StructureBuilder.py:89: PDBConstructionWarning: WARNING: Chain A is discontinuous at line 658.\n",
      "  warnings.warn(\n",
      "/Users/maxschaffelder/opt/anaconda3/lib/python3.9/site-packages/Bio/PDB/StructureBuilder.py:89: PDBConstructionWarning: WARNING: Chain B is discontinuous at line 671.\n",
      "  warnings.warn(\n"
     ]
    }
   ],
   "source": [
    "from Bio.PDB import *\n",
    "\n",
    "p = PDBParser()\n",
    "#structure = p.get_structure(\"100d\", \"/Volumes/UCG Hard D./PDB Files/pdb/00/pdb100d.ent\")\n",
    "structure = p.get_structure(\"100d\", structures[0])\n",
    "\n",
    "residues =[]\n",
    "atoms_n = []\n",
    "atoms_o = []\n",
    "\n",
    "for model in structure:\n",
    "    for chain in model:\n",
    "        for residue in chain:\n",
    "            for atom in residue:\n",
    "                if atom.get_name()=='N':\n",
    "                    atoms_n.append(atom)\n",
    "                if atom.get_name()==\"O\":\n",
    "                    atoms_o.append(atom)\n",
    "\n",
    "\n",
    "#dir(structure)\n",
    "# structure.get_residues()\n",
    "\n",
    "#atoms_o[0].get_vector()"
   ]
  },
  {
   "cell_type": "code",
   "execution_count": 11,
   "id": "9cb01508",
   "metadata": {},
   "outputs": [
    {
     "name": "stderr",
     "output_type": "stream",
     "text": [
      "/Users/maxschaffelder/opt/anaconda3/lib/python3.9/site-packages/Bio/PDB/StructureBuilder.py:89: PDBConstructionWarning: WARNING: Chain A is discontinuous at line 658.\n",
      "  warnings.warn(\n",
      "/Users/maxschaffelder/opt/anaconda3/lib/python3.9/site-packages/Bio/PDB/StructureBuilder.py:89: PDBConstructionWarning: WARNING: Chain B is discontinuous at line 671.\n",
      "  warnings.warn(\n",
      "/Users/maxschaffelder/opt/anaconda3/lib/python3.9/site-packages/Bio/PDB/StructureBuilder.py:89: PDBConstructionWarning: WARNING: Chain A is discontinuous at line 1208.\n",
      "  warnings.warn(\n",
      "/Users/maxschaffelder/opt/anaconda3/lib/python3.9/site-packages/Bio/PDB/StructureBuilder.py:89: PDBConstructionWarning: WARNING: Chain B is discontinuous at line 1213.\n",
      "  warnings.warn(\n",
      "/Users/maxschaffelder/opt/anaconda3/lib/python3.9/site-packages/Bio/PDB/StructureBuilder.py:89: PDBConstructionWarning: WARNING: Chain A is discontinuous at line 516.\n",
      "  warnings.warn(\n",
      "/Users/maxschaffelder/opt/anaconda3/lib/python3.9/site-packages/Bio/PDB/StructureBuilder.py:89: PDBConstructionWarning: WARNING: Chain B is discontinuous at line 535.\n",
      "  warnings.warn(\n",
      "/Users/maxschaffelder/opt/anaconda3/lib/python3.9/site-packages/Bio/PDB/StructureBuilder.py:89: PDBConstructionWarning: WARNING: Chain A is discontinuous at line 779.\n",
      "  warnings.warn(\n",
      "/Users/maxschaffelder/opt/anaconda3/lib/python3.9/site-packages/Bio/PDB/StructureBuilder.py:89: PDBConstructionWarning: WARNING: Chain B is discontinuous at line 831.\n",
      "  warnings.warn(\n"
     ]
    }
   ],
   "source": [
    "res = \n",
    "\n",
    "for i in range(5):\n",
    "    prot = p.get_structure(\"Protein \" + str(i), structures[i])\n",
    "    res = prot.get_residues()"
   ]
  },
  {
   "cell_type": "code",
   "execution_count": 23,
   "id": "97e79575",
   "metadata": {},
   "outputs": [
    {
     "name": "stderr",
     "output_type": "stream",
     "text": [
      "/Users/maxschaffelder/opt/anaconda3/lib/python3.9/site-packages/Bio/PDB/StructureBuilder.py:89: PDBConstructionWarning: WARNING: Chain A is discontinuous at line 4725.\n",
      "  warnings.warn(\n",
      "/Users/maxschaffelder/opt/anaconda3/lib/python3.9/site-packages/Bio/PDB/StructureBuilder.py:89: PDBConstructionWarning: WARNING: Chain B is discontinuous at line 5042.\n",
      "  warnings.warn(\n"
     ]
    },
    {
     "ename": "FileNotFoundError",
     "evalue": "[Errno 2] No such file or directory: 'mkdssp'",
     "output_type": "error",
     "traceback": [
      "\u001b[0;31m---------------------------------------------------------------------------\u001b[0m",
      "\u001b[0;31mFileNotFoundError\u001b[0m                         Traceback (most recent call last)",
      "\u001b[0;32m/var/folders/rr/dkr55psd2qsf541m2wnpzv0c0000gn/T/ipykernel_50744/4116060256.py\u001b[0m in \u001b[0;36m<module>\u001b[0;34m\u001b[0m\n\u001b[1;32m      4\u001b[0m \u001b[0mstructure\u001b[0m \u001b[0;34m=\u001b[0m \u001b[0mp\u001b[0m\u001b[0;34m.\u001b[0m\u001b[0mget_structure\u001b[0m\u001b[0;34m(\u001b[0m\u001b[0;34m\"1b5h\"\u001b[0m\u001b[0;34m,\u001b[0m \u001b[0;34m\"/Users/maxschaffelder/Desktop/pdb1b5h.pdb\"\u001b[0m\u001b[0;34m)\u001b[0m\u001b[0;34m\u001b[0m\u001b[0;34m\u001b[0m\u001b[0m\n\u001b[1;32m      5\u001b[0m \u001b[0mmodel\u001b[0m \u001b[0;34m=\u001b[0m \u001b[0;34m\"/Users/maxschaffelder/Desktop/pdb1b5h.pdb\"\u001b[0m\u001b[0;34m\u001b[0m\u001b[0;34m\u001b[0m\u001b[0m\n\u001b[0;32m----> 6\u001b[0;31m \u001b[0mdssp\u001b[0m \u001b[0;34m=\u001b[0m \u001b[0mDSSP\u001b[0m\u001b[0;34m(\u001b[0m\u001b[0mmodel\u001b[0m\u001b[0;34m,\u001b[0m \u001b[0;34m\"/Users/maxschaffelder/Desktop/pdb1b5h.pdb\"\u001b[0m\u001b[0;34m)\u001b[0m\u001b[0;34m\u001b[0m\u001b[0;34m\u001b[0m\u001b[0m\n\u001b[0m",
      "\u001b[0;32m~/opt/anaconda3/lib/python3.9/site-packages/Bio/PDB/DSSP.py\u001b[0m in \u001b[0;36m__init__\u001b[0;34m(self, model, in_file, dssp, acc_array, file_type)\u001b[0m\n\u001b[1;32m    444\u001b[0m                 \u001b[0;32melse\u001b[0m\u001b[0;34m:\u001b[0m\u001b[0;34m\u001b[0m\u001b[0;34m\u001b[0m\u001b[0m\n\u001b[1;32m    445\u001b[0m                     \u001b[0;32mraise\u001b[0m\u001b[0;34m\u001b[0m\u001b[0;34m\u001b[0m\u001b[0m\n\u001b[0;32m--> 446\u001b[0;31m             \u001b[0mdssp_dict\u001b[0m\u001b[0;34m,\u001b[0m \u001b[0mdssp_keys\u001b[0m \u001b[0;34m=\u001b[0m \u001b[0mdssp_dict_from_pdb_file\u001b[0m\u001b[0;34m(\u001b[0m\u001b[0min_file\u001b[0m\u001b[0;34m,\u001b[0m \u001b[0mdssp\u001b[0m\u001b[0;34m)\u001b[0m\u001b[0;34m\u001b[0m\u001b[0;34m\u001b[0m\u001b[0m\n\u001b[0m\u001b[1;32m    447\u001b[0m         \u001b[0;31m# If the input file is a DSSP file just parse it directly:\u001b[0m\u001b[0;34m\u001b[0m\u001b[0;34m\u001b[0m\u001b[0m\n\u001b[1;32m    448\u001b[0m         \u001b[0;32melif\u001b[0m \u001b[0mfile_type\u001b[0m \u001b[0;34m==\u001b[0m \u001b[0;34m\"DSSP\"\u001b[0m\u001b[0;34m:\u001b[0m\u001b[0;34m\u001b[0m\u001b[0;34m\u001b[0m\u001b[0m\n",
      "\u001b[0;32m~/opt/anaconda3/lib/python3.9/site-packages/Bio/PDB/DSSP.py\u001b[0m in \u001b[0;36mdssp_dict_from_pdb_file\u001b[0;34m(in_file, DSSP)\u001b[0m\n\u001b[1;32m    231\u001b[0m     \u001b[0;31m# (Debian distribution of DSSP includes a symlink for 'dssp' argument)\u001b[0m\u001b[0;34m\u001b[0m\u001b[0;34m\u001b[0m\u001b[0m\n\u001b[1;32m    232\u001b[0m     \u001b[0;32mtry\u001b[0m\u001b[0;34m:\u001b[0m\u001b[0;34m\u001b[0m\u001b[0;34m\u001b[0m\u001b[0m\n\u001b[0;32m--> 233\u001b[0;31m         p = subprocess.Popen(\n\u001b[0m\u001b[1;32m    234\u001b[0m             \u001b[0;34m[\u001b[0m\u001b[0mDSSP\u001b[0m\u001b[0;34m,\u001b[0m \u001b[0min_file\u001b[0m\u001b[0;34m]\u001b[0m\u001b[0;34m,\u001b[0m\u001b[0;34m\u001b[0m\u001b[0;34m\u001b[0m\u001b[0m\n\u001b[1;32m    235\u001b[0m             \u001b[0muniversal_newlines\u001b[0m\u001b[0;34m=\u001b[0m\u001b[0;32mTrue\u001b[0m\u001b[0;34m,\u001b[0m\u001b[0;34m\u001b[0m\u001b[0;34m\u001b[0m\u001b[0m\n",
      "\u001b[0;32m~/opt/anaconda3/lib/python3.9/subprocess.py\u001b[0m in \u001b[0;36m__init__\u001b[0;34m(self, args, bufsize, executable, stdin, stdout, stderr, preexec_fn, close_fds, shell, cwd, env, universal_newlines, startupinfo, creationflags, restore_signals, start_new_session, pass_fds, user, group, extra_groups, encoding, errors, text, umask)\u001b[0m\n\u001b[1;32m    949\u001b[0m                             encoding=encoding, errors=errors)\n\u001b[1;32m    950\u001b[0m \u001b[0;34m\u001b[0m\u001b[0m\n\u001b[0;32m--> 951\u001b[0;31m             self._execute_child(args, executable, preexec_fn, close_fds,\n\u001b[0m\u001b[1;32m    952\u001b[0m                                 \u001b[0mpass_fds\u001b[0m\u001b[0;34m,\u001b[0m \u001b[0mcwd\u001b[0m\u001b[0;34m,\u001b[0m \u001b[0menv\u001b[0m\u001b[0;34m,\u001b[0m\u001b[0;34m\u001b[0m\u001b[0;34m\u001b[0m\u001b[0m\n\u001b[1;32m    953\u001b[0m                                 \u001b[0mstartupinfo\u001b[0m\u001b[0;34m,\u001b[0m \u001b[0mcreationflags\u001b[0m\u001b[0;34m,\u001b[0m \u001b[0mshell\u001b[0m\u001b[0;34m,\u001b[0m\u001b[0;34m\u001b[0m\u001b[0;34m\u001b[0m\u001b[0m\n",
      "\u001b[0;32m~/opt/anaconda3/lib/python3.9/subprocess.py\u001b[0m in \u001b[0;36m_execute_child\u001b[0;34m(self, args, executable, preexec_fn, close_fds, pass_fds, cwd, env, startupinfo, creationflags, shell, p2cread, p2cwrite, c2pread, c2pwrite, errread, errwrite, restore_signals, gid, gids, uid, umask, start_new_session)\u001b[0m\n\u001b[1;32m   1819\u001b[0m                     \u001b[0;32mif\u001b[0m \u001b[0merrno_num\u001b[0m \u001b[0;34m!=\u001b[0m \u001b[0;36m0\u001b[0m\u001b[0;34m:\u001b[0m\u001b[0;34m\u001b[0m\u001b[0;34m\u001b[0m\u001b[0m\n\u001b[1;32m   1820\u001b[0m                         \u001b[0merr_msg\u001b[0m \u001b[0;34m=\u001b[0m \u001b[0mos\u001b[0m\u001b[0;34m.\u001b[0m\u001b[0mstrerror\u001b[0m\u001b[0;34m(\u001b[0m\u001b[0merrno_num\u001b[0m\u001b[0;34m)\u001b[0m\u001b[0;34m\u001b[0m\u001b[0;34m\u001b[0m\u001b[0m\n\u001b[0;32m-> 1821\u001b[0;31m                     \u001b[0;32mraise\u001b[0m \u001b[0mchild_exception_type\u001b[0m\u001b[0;34m(\u001b[0m\u001b[0merrno_num\u001b[0m\u001b[0;34m,\u001b[0m \u001b[0merr_msg\u001b[0m\u001b[0;34m,\u001b[0m \u001b[0merr_filename\u001b[0m\u001b[0;34m)\u001b[0m\u001b[0;34m\u001b[0m\u001b[0;34m\u001b[0m\u001b[0m\n\u001b[0m\u001b[1;32m   1822\u001b[0m                 \u001b[0;32mraise\u001b[0m \u001b[0mchild_exception_type\u001b[0m\u001b[0;34m(\u001b[0m\u001b[0merr_msg\u001b[0m\u001b[0;34m)\u001b[0m\u001b[0;34m\u001b[0m\u001b[0;34m\u001b[0m\u001b[0m\n\u001b[1;32m   1823\u001b[0m \u001b[0;34m\u001b[0m\u001b[0m\n",
      "\u001b[0;31mFileNotFoundError\u001b[0m: [Errno 2] No such file or directory: 'mkdssp'"
     ]
    }
   ],
   "source": [
    "from Bio.PDB import PDBParser\n",
    "from Bio.PDB.DSSP import DSSP\n",
    "p = PDBParser()\n",
    "structure = p.get_structure(\"1b5h\", \"/Users/maxschaffelder/Desktop/pdb1b5h.pdb\")\n",
    "model = \"/Users/maxschaffelder/Desktop/pdb1b5h.pdb\"\n",
    "dssp = DSSP(model, \"/Users/maxschaffelder/Desktop/pdb1b5h.pdb\")"
   ]
  },
  {
   "cell_type": "code",
   "execution_count": null,
   "id": "87fd5eda",
   "metadata": {},
   "outputs": [],
   "source": []
  }
 ],
 "metadata": {
  "kernelspec": {
   "display_name": "Python 3 (ipykernel)",
   "language": "python",
   "name": "python3"
  },
  "language_info": {
   "codemirror_mode": {
    "name": "ipython",
    "version": 3
   },
   "file_extension": ".py",
   "mimetype": "text/x-python",
   "name": "python",
   "nbconvert_exporter": "python",
   "pygments_lexer": "ipython3",
   "version": "3.9.7"
  }
 },
 "nbformat": 4,
 "nbformat_minor": 5
}
