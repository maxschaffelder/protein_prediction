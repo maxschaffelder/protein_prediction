{
 "cells": [
  {
   "cell_type": "code",
   "execution_count": 1,
   "metadata": {},
   "outputs": [],
   "source": [
    "import pandas as pd\n",
    "from sklearn.model_selection import train_test_split\n",
    "from sklearn.metrics import confusion_matrix, accuracy_score\n",
    "import numpy as np\n",
    "from sklearn.linear_model import LinearRegression\n",
    "import matplotlib.pyplot as plt\n",
    "from scipy.stats import linregress"
   ]
  },
  {
   "cell_type": "code",
   "execution_count": 2,
   "metadata": {},
   "outputs": [
    {
     "data": {
      "text/html": [
       "<div>\n",
       "<style scoped>\n",
       "    .dataframe tbody tr th:only-of-type {\n",
       "        vertical-align: middle;\n",
       "    }\n",
       "\n",
       "    .dataframe tbody tr th {\n",
       "        vertical-align: top;\n",
       "    }\n",
       "\n",
       "    .dataframe thead th {\n",
       "        text-align: right;\n",
       "    }\n",
       "</style>\n",
       "<table border=\"1\" class=\"dataframe\">\n",
       "  <thead>\n",
       "    <tr style=\"text-align: right;\">\n",
       "      <th></th>\n",
       "      <th>Unnamed: 0</th>\n",
       "      <th>names</th>\n",
       "      <th>sequences</th>\n",
       "      <th>chains</th>\n",
       "      <th>helices</th>\n",
       "      <th>sheets</th>\n",
       "    </tr>\n",
       "  </thead>\n",
       "  <tbody>\n",
       "    <tr>\n",
       "      <th>0</th>\n",
       "      <td>0</td>\n",
       "      <td>/Volumes/UCG Hard D./PDB Files/pdb/04/pdb104l.ent</td>\n",
       "      <td>['MNIFEMLRIDEGLRLKIYKDTEGYYTIGIGHLLTKSPSLNAAKS...</td>\n",
       "      <td>2</td>\n",
       "      <td>22</td>\n",
       "      <td>6</td>\n",
       "    </tr>\n",
       "    <tr>\n",
       "      <th>1</th>\n",
       "      <td>1</td>\n",
       "      <td>/Volumes/UCG Hard D./PDB Files/pdb/08/pdb208l.ent</td>\n",
       "      <td>['KVFERCELARTLKRLGMDGYRGISLANWMCLAKWESGYNTRATN...</td>\n",
       "      <td>1</td>\n",
       "      <td>9</td>\n",
       "      <td>5</td>\n",
       "    </tr>\n",
       "    <tr>\n",
       "      <th>2</th>\n",
       "      <td>2</td>\n",
       "      <td>/Volumes/UCG Hard D./PDB Files/pdb/09/pdb209l.ent</td>\n",
       "      <td>['MNIFEMLRIDEGLRLKIYKDTEGYYTIGIGHLLTKSPSLNAAKS...</td>\n",
       "      <td>1</td>\n",
       "      <td>8</td>\n",
       "      <td>2</td>\n",
       "    </tr>\n",
       "    <tr>\n",
       "      <th>3</th>\n",
       "      <td>3</td>\n",
       "      <td>/Volumes/UCG Hard D./PDB Files/pdb/13/pdb213l.ent</td>\n",
       "      <td>['MNIFEMLRIDEGLRLKIYKDTEGYYTIGIGHLLTKSPSLNAAKS...</td>\n",
       "      <td>1</td>\n",
       "      <td>9</td>\n",
       "      <td>2</td>\n",
       "    </tr>\n",
       "    <tr>\n",
       "      <th>4</th>\n",
       "      <td>4</td>\n",
       "      <td>/Volumes/UCG Hard D./PDB Files/pdb/14/pdb214l.ent</td>\n",
       "      <td>['MNIFEMLRIDEGLRLKIYKDTEGYYTIGIGHLLTKSPSLNAAKS...</td>\n",
       "      <td>1</td>\n",
       "      <td>9</td>\n",
       "      <td>2</td>\n",
       "    </tr>\n",
       "  </tbody>\n",
       "</table>\n",
       "</div>"
      ],
      "text/plain": [
       "   Unnamed: 0                                              names  \\\n",
       "0           0  /Volumes/UCG Hard D./PDB Files/pdb/04/pdb104l.ent   \n",
       "1           1  /Volumes/UCG Hard D./PDB Files/pdb/08/pdb208l.ent   \n",
       "2           2  /Volumes/UCG Hard D./PDB Files/pdb/09/pdb209l.ent   \n",
       "3           3  /Volumes/UCG Hard D./PDB Files/pdb/13/pdb213l.ent   \n",
       "4           4  /Volumes/UCG Hard D./PDB Files/pdb/14/pdb214l.ent   \n",
       "\n",
       "                                           sequences  chains  helices  sheets  \n",
       "0  ['MNIFEMLRIDEGLRLKIYKDTEGYYTIGIGHLLTKSPSLNAAKS...       2       22       6  \n",
       "1  ['KVFERCELARTLKRLGMDGYRGISLANWMCLAKWESGYNTRATN...       1        9       5  \n",
       "2  ['MNIFEMLRIDEGLRLKIYKDTEGYYTIGIGHLLTKSPSLNAAKS...       1        8       2  \n",
       "3  ['MNIFEMLRIDEGLRLKIYKDTEGYYTIGIGHLLTKSPSLNAAKS...       1        9       2  \n",
       "4  ['MNIFEMLRIDEGLRLKIYKDTEGYYTIGIGHLLTKSPSLNAAKS...       1        9       2  "
      ]
     },
     "execution_count": 2,
     "metadata": {},
     "output_type": "execute_result"
    }
   ],
   "source": [
    "filename = \"Data/natural_proteins.csv\"\n",
    "df = pd.read_csv(filename)\n",
    "\n",
    "df.head()"
   ]
  },
  {
   "cell_type": "code",
   "execution_count": 3,
   "metadata": {},
   "outputs": [],
   "source": [
    "def get_features(file, choice):\n",
    "    \n",
    "    df = pd.read_csv(file)\n",
    "    features = pd.DataFrame()\n",
    "    \n",
    "    if choice == \"helices\":\n",
    "        features[\"A\"] = df[\"sequences\"].str.count(\"A\")\n",
    "        features[\"R\"] = df[\"sequences\"].str.count(\"R\")\n",
    "        features[\"D\"] = df[\"sequences\"].str.count(\"D\")\n",
    "        features[\"E\"] = df[\"sequences\"].str.count(\"E\")\n",
    "        features[\"Y\"] = df[\"sequences\"].str.count(\"Y\")\n",
    "        features[\"M\"] = df[\"sequences\"].str.count(\"M\")\n",
    "        features[\"F\"] = df[\"sequences\"].str.count(\"F\")\n",
    "        features[\"L\"] = df[\"sequences\"].str.count(\"L\")\n",
    "        features[\"I\"] = df[\"sequences\"].str.count(\"I\")\n",
    "\n",
    "    elif choice == \"sheets\":\n",
    "        features[\"P\"] = df[\"sequences\"].str.count(\"P\")\n",
    "        features[\"S\"] = df[\"sequences\"].str.count(\"S\")\n",
    "        features[\"G\"] = df[\"sequences\"].str.count(\"G\")\n",
    "        features[\"T\"] = df[\"sequences\"].str.count(\"T\")\n",
    "        features[\"V\"] = df[\"sequences\"].str.count(\"V\")\n",
    "\n",
    "    features[\"Len\"] = df[\"sequences\"].str.len()\n",
    "    features[\"chains\"] = df[\"chains\"]\n",
    "    \n",
    "    return features\n",
    "    \n",
    "# nothing\n",
    "#features[\"AH\"] = df[\"helices\"]\n",
    "#features[\"BS\"] = df[\"sheets\"]\n",
    "#features[\"N\"] = df[\"sequences\"].str.count(\"N\")\n",
    "#features[\"W\"] = df[\"sequences\"].str.count(\"W\")\n",
    "#features[\"H\"] = df[\"sequences\"].str.count(\"H\")\n",
    "#features[\"C\"] = df[\"sequences\"].str.count(\"C\")\n",
    "#features[\"Q\"] = df[\"sequences\"].str.count(\"Q\")\n",
    "#features[\"K\"] = df[\"sequences\"].str.count(\"K\")\n"
   ]
  },
  {
   "cell_type": "code",
   "execution_count": 9,
   "metadata": {},
   "outputs": [
    {
     "name": "stdout",
     "output_type": "stream",
     "text": [
      "[[1.         0.86517271]\n",
      " [0.86517271 1.        ]]\n",
      "0.5511627470034955\n"
     ]
    },
    {
     "data": {
      "image/png": "[encoded data removed]",
      "text/plain": [
       "<Figure size 432x288 with 1 Axes>"
      ]
     },
     "metadata": {
      "needs_background": "light"
     },
     "output_type": "display_data"
    }
   ],
   "source": [
    "choice = \"sheets\"\n",
    "\n",
    "df = pd.read_csv(filename)\n",
    "\n",
    "features = get_features(filename, choice)\n",
    "\n",
    "#y = df[\"helices\"]\n",
    "y = df[choice]\n",
    "\n",
    "x_train, x_test, y_train, y_test = train_test_split(features, y, test_size=0.2)\n",
    "reg = LinearRegression().fit(x_train, y_train)\n",
    "\n",
    "\n",
    "y_pred = reg.predict(x_test)\n",
    "for i in range(len(y_pred)):\n",
    "    if y_pred[i]<0:   # if the algorithm predicts a negative value\n",
    "        y_pred[i] = 1  # set the value to 1\n",
    "\n",
    "\n",
    "y_pred_round = [ round(elem) for elem in y_pred ]\n",
    "mat = confusion_matrix(y_test, y_pred_round)\n",
    "\n",
    "print(np.corrcoef(y_test, y_pred_round))\n",
    "plt.scatter(y_test, y_pred)\n",
    "print(linregress(y_test, y_pred)[0])\n"
   ]
  },
  {
   "cell_type": "code",
   "execution_count": 10,
   "metadata": {},
   "outputs": [
    {
     "name": "stdout",
     "output_type": "stream",
     "text": [
      "Estimation is off on average by: 18.84\n"
     ]
    }
   ],
   "source": [
    "s = 0\n",
    "\n",
    "results = pd.DataFrame()\n",
    "results[\"Actual\"] = y_test.values\n",
    "results[\"Predicted\"] = y_pred\n",
    "\n",
    "for i in range(len(y_pred)):\n",
    "#    print(y_test.values[i], round(y_pred[i]))\n",
    "    s += np.sqrt((y_test.values[i] - y_pred[i])**2)\n",
    "    \n",
    "print(\"Estimation is off on average by:\" , round(s/len(y_pred), 2))\n",
    "\n"
   ]
  },
  {
   "cell_type": "code",
   "execution_count": 11,
   "metadata": {},
   "outputs": [
    {
     "data": {
      "text/plain": [
       "0.7204017556205748"
      ]
     },
     "execution_count": 11,
     "metadata": {},
     "output_type": "execute_result"
    }
   ],
   "source": [
    "tot = 0\n",
    "for i in range(1000):\n",
    "    x_train, x_test, y_train, y_test = train_test_split(features, y, test_size=0.2)\n",
    "    reg = LinearRegression().fit(x_train, y_train)\n",
    "    y_pred = reg.predict(x_test)\n",
    "    y_pred_round = [ round(elem) for elem in y_pred ]\n",
    "    tot += np.corrcoef(y_test, y_pred_round)[0][1]\n",
    "\n",
    "tot/1000\n",
    "\n",
    "# average for helix prediction: 0.84 correlation coefficient\n",
    "# average for sheet prediction: 0.72 correlation coefficient"
   ]
  },
  {
   "cell_type": "code",
   "execution_count": 7,
   "metadata": {},
   "outputs": [],
   "source": [
    "def convert_to_features(sequence, choice):\n",
    "    features = pd.DataFrame()\n",
    "    if choice == \"helices\":\n",
    "        #data = np.array([sequence.count(\"A\"), sequence.count(\"R\"), sequence.count(\"D\"), sequence.count(\"E\"), sequence.count(\"Y\"), sequence.count(\"M\"), sequence.count(\"F\"), sequence.count(\"L\"), sequence.count(\"I\")]) \n",
    "        #columns=[\"A\", \"R\", \"D\", \"E\", \"Y\", \"M\", \"F\", \"L\", \"I\"]\n",
    "        features[\"A\"] = [sequence.count(\"A\")]\n",
    "        features[\"R\"] = [sequence.count(\"R\")]\n",
    "        features[\"D\"] = [sequence.count(\"D\")]\n",
    "        features[\"E\"] = [sequence.count(\"E\")]\n",
    "        features[\"Y\"] = [sequence.count(\"Y\")]\n",
    "        features[\"M\"] = [sequence.count(\"M\")]\n",
    "        features[\"F\"] = [sequence.count(\"F\")]\n",
    "        features[\"L\"] = [sequence.count(\"L\")]\n",
    "        features[\"I\"] = [sequence.count(\"I\")]\n",
    "\n",
    "    elif choice == \"sheets\":\n",
    "        features[\"P\"] = [sequence.count(\"P\")]\n",
    "        features[\"S\"] = [sequence.count(\"S\")]\n",
    "        features[\"G\"] = [sequence.count(\"G\")]\n",
    "        features[\"T\"] = [sequence.count(\"T\")]\n",
    "        features[\"V\"] = [sequence.count(\"V\")]\n",
    "\n",
    "    features[\"Len\"] = len(sequence)\n",
    "    split = sequence.split(\",\")\n",
    "    features[\"chains\"] = len(split)\n",
    "    \n",
    "    return features\n"
   ]
  },
  {
   "cell_type": "code",
   "execution_count": 8,
   "metadata": {},
   "outputs": [
    {
     "data": {
      "text/plain": [
       "array([11.37556977])"
      ]
     },
     "execution_count": 8,
     "metadata": {},
     "output_type": "execute_result"
    }
   ],
   "source": [
    "sequence = \"RDVRREQQEIITRQINTAPYVQDAMMRVVVFAQYPSGRYKAFDYVFPDYLKVFLNWRELLEGSGRYPMGVIVSFNGNIDWTRARVEATNMHGLNNTDWREARAWGPHVICGNQLRKAGHLSRAVYVPLDEHNTVKVLATARQNRFNGPQLAQTLTNNIVCPNVIEFNTESDVIDYAKMAHIAYIDQAGLIVASSDAYISGDSQ\"\n",
    "\n",
    "converted_sequence = convert_to_features(sequence, choice)\n",
    "reg.predict(converted_sequence)\n"
   ]
  },
  {
   "cell_type": "code",
   "execution_count": null,
   "metadata": {},
   "outputs": [],
   "source": []
  }
 ],
 "metadata": {
  "kernelspec": {
   "display_name": "Python 3 (ipykernel)",
   "language": "python",
   "name": "python3"
  },
  "language_info": {
   "codemirror_mode": {
    "name": "ipython",
    "version": 3
   },
   "file_extension": ".py",
   "mimetype": "text/x-python",
   "name": "python",
   "nbconvert_exporter": "python",
   "pygments_lexer": "ipython3",
   "version": "3.9.7"
  }
 },
 "nbformat": 4,
 "nbformat_minor": 4
}
