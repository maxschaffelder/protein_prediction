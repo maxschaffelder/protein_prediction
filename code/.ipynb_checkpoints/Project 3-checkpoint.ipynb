{
 "cells": [
  {
   "cell_type": "code",
   "execution_count": 1,
   "id": "13c49db2",
   "metadata": {},
   "outputs": [
    {
     "data": {
      "text/html": [
       "<div>\n",
       "<style scoped>\n",
       "    .dataframe tbody tr th:only-of-type {\n",
       "        vertical-align: middle;\n",
       "    }\n",
       "\n",
       "    .dataframe tbody tr th {\n",
       "        vertical-align: top;\n",
       "    }\n",
       "\n",
       "    .dataframe thead th {\n",
       "        text-align: right;\n",
       "    }\n",
       "</style>\n",
       "<table border=\"1\" class=\"dataframe\">\n",
       "  <thead>\n",
       "    <tr style=\"text-align: right;\">\n",
       "      <th></th>\n",
       "      <th>Protein</th>\n",
       "      <th>Secondary Structure</th>\n",
       "      <th>Sequence</th>\n",
       "      <th>Length</th>\n",
       "      <th>Unnamed: 4</th>\n",
       "    </tr>\n",
       "  </thead>\n",
       "  <tbody>\n",
       "    <tr>\n",
       "      <th>0</th>\n",
       "      <td>1WR5</td>\n",
       "      <td>Alpha helix</td>\n",
       "      <td>AAPKAPADGLKMDKTKQPVVFNHSTHKAVKCGDCHHPVNGKKDYQK...</td>\n",
       "      <td>NaN</td>\n",
       "      <td>Julie</td>\n",
       "    </tr>\n",
       "    <tr>\n",
       "      <th>1</th>\n",
       "      <td>2DPZ</td>\n",
       "      <td>Alpha helix</td>\n",
       "      <td>SLLEFGKMILEETGKLAIPSYSSYGCYCGWGGKGTPKDATDRCCFV...</td>\n",
       "      <td>NaN</td>\n",
       "      <td>Julie</td>\n",
       "    </tr>\n",
       "    <tr>\n",
       "      <th>2</th>\n",
       "      <td>4CUT</td>\n",
       "      <td>Alpha helix</td>\n",
       "      <td>SMSVKKPKRDDSKDLALCSMILTEMETHEDAWPFLLPVNLKLVPGY...</td>\n",
       "      <td>NaN</td>\n",
       "      <td>Julie</td>\n",
       "    </tr>\n",
       "    <tr>\n",
       "      <th>3</th>\n",
       "      <td>3G4I</td>\n",
       "      <td>Alpha helix</td>\n",
       "      <td>MSIPRFGVKTEQEDVLAKELEDVNKWGLHVFRIAELSGNRPLTVIM...</td>\n",
       "      <td>NaN</td>\n",
       "      <td>Julie</td>\n",
       "    </tr>\n",
       "    <tr>\n",
       "      <th>4</th>\n",
       "      <td>1OOF</td>\n",
       "      <td>Alpha helix</td>\n",
       "      <td>MTMEQFLTSLDMIRSGCAPKFKLKTEDLDRLRVGDFNFPPSQDLMC...</td>\n",
       "      <td>NaN</td>\n",
       "      <td>Julie</td>\n",
       "    </tr>\n",
       "  </tbody>\n",
       "</table>\n",
       "</div>"
      ],
      "text/plain": [
       "  Protein  Secondary Structure   \\\n",
       "0     1WR5         Alpha helix    \n",
       "1     2DPZ         Alpha helix    \n",
       "2     4CUT         Alpha helix    \n",
       "3     3G4I         Alpha helix    \n",
       "4     1OOF         Alpha helix    \n",
       "\n",
       "                                           Sequence   Length  Unnamed: 4  \n",
       "0  AAPKAPADGLKMDKTKQPVVFNHSTHKAVKCGDCHHPVNGKKDYQK...      NaN     Julie   \n",
       "1  SLLEFGKMILEETGKLAIPSYSSYGCYCGWGGKGTPKDATDRCCFV...      NaN     Julie   \n",
       "2  SMSVKKPKRDDSKDLALCSMILTEMETHEDAWPFLLPVNLKLVPGY...      NaN     Julie   \n",
       "3  MSIPRFGVKTEQEDVLAKELEDVNKWGLHVFRIAELSGNRPLTVIM...      NaN     Julie   \n",
       "4  MTMEQFLTSLDMIRSGCAPKFKLKTEDLDRLRVGDFNFPPSQDLMC...      NaN     Julie   "
      ]
     },
     "execution_count": 1,
     "metadata": {},
     "output_type": "execute_result"
    }
   ],
   "source": [
    "import pandas as pd\n",
    "\n",
    "df = pd.read_csv(\"Protein structures  - Sheet1.csv\")\n",
    "df.head()"
   ]
  },
  {
   "cell_type": "code",
   "execution_count": 7,
   "id": "904b6d3b",
   "metadata": {},
   "outputs": [
    {
     "name": "stdout",
     "output_type": "stream",
     "text": [
      "108\n"
     ]
    }
   ],
   "source": [
    "print(len(df[\"Sequence \"][0]))"
   ]
  },
  {
   "cell_type": "code",
   "execution_count": 10,
   "id": "f3b31827",
   "metadata": {},
   "outputs": [],
   "source": [
    "from sklearn.model_selection import train_test_split\n",
    "from sklearn.feature_extraction.text import CountVectorizer\n",
    "\n",
    "X = df[\"Sequence \"]\n",
    "y = df[\"Secondary Structure \"]\n",
    "\n",
    "X_train, X_test, y_train, y_test = train_test_split(X, y)\n",
    "\n"
   ]
  }
 ],
 "metadata": {
  "kernelspec": {
   "display_name": "Python 3 (ipykernel)",
   "language": "python",
   "name": "python3"
  },
  "language_info": {
   "codemirror_mode": {
    "name": "ipython",
    "version": 3
   },
   "file_extension": ".py",
   "mimetype": "text/x-python",
   "name": "python",
   "nbconvert_exporter": "python",
   "pygments_lexer": "ipython3",
   "version": "3.9.7"
  }
 },
 "nbformat": 4,
 "nbformat_minor": 5
}
